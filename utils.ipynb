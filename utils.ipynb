{
 "cells": [
  {
   "cell_type": "code",
   "execution_count": 1,
   "metadata": {},
   "outputs": [],
   "source": [
    "\n",
    "from bson import json_util\n",
    "import json\n",
    "import os\n",
    "\n",
    "RESULTS_DIR = \"/home/cem/Desktop/a\"\n",
    "\n",
    "\n",
    "def print_json(result):\n",
    "    \"\"\"Pretty-print a jsonable structure (e.g.: result).\"\"\"\n",
    "    print(json.dumps(\n",
    "        result,\n",
    "        default=json_util.default, sort_keys=True,\n",
    "        indent=4, separators=(',', ': ')\n",
    "    ))\n",
    "\n",
    "\n",
    "def save_json_result(model_name, result):\n",
    "    \"\"\"Save json to a directory and a filename.\"\"\"\n",
    "    result_name = '{}.txt.json'.format(model_name)\n",
    "    if not os.path.exists(RESULTS_DIR):\n",
    "        os.makedirs(RESULTS_DIR)\n",
    "    with open(os.path.join(RESULTS_DIR, result_name), 'w') as f:\n",
    "        json.dump(\n",
    "            result, f,\n",
    "            default=json_util.default, sort_keys=True,\n",
    "            indent=4, separators=(',', ': ')\n",
    "        )\n",
    "\n",
    "\n",
    "def load_json_result(best_result_name):\n",
    "    \"\"\"Load json from a path (directory + filename).\"\"\"\n",
    "    result_path = os.path.join(RESULTS_DIR, best_result_name)\n",
    "    with open(result_path, 'r') as f:\n",
    "        return json.JSONDecoder().decode(\n",
    "            f.read()\n",
    "            # default=json_util.default,\n",
    "            # separators=(',', ': ')\n",
    "        )\n",
    "\n",
    "\n",
    "def load_best_hyperspace():\n",
    "    results = [\n",
    "        f for f in list(sorted(os.listdir(RESULTS_DIR))) if 'json' in f\n",
    "    ]\n",
    "    if len(results) == 0:\n",
    "        return None\n",
    "\n",
    "    best_result_name = results[-1]\n",
    "    return load_json_result(best_result_name)[\"space\"]"
   ]
  },
  {
   "cell_type": "code",
   "execution_count": null,
   "metadata": {},
   "outputs": [],
   "source": []
  }
 ],
 "metadata": {
  "kernelspec": {
   "display_name": "Python 3",
   "language": "python",
   "name": "python3"
  },
  "language_info": {
   "codemirror_mode": {
    "name": "ipython",
    "version": 3
   },
   "file_extension": ".py",
   "mimetype": "text/x-python",
   "name": "python",
   "nbconvert_exporter": "python",
   "pygments_lexer": "ipython3",
   "version": "3.6.7"
  }
 },
 "nbformat": 4,
 "nbformat_minor": 2
}
